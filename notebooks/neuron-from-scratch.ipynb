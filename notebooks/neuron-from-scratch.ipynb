{
 "cells": [
  {
   "cell_type": "code",
   "execution_count": 2,
   "id": "ad9fca3a",
   "metadata": {},
   "outputs": [],
   "source": [
    "import numpy as np\n",
    "np.random.seed(10)"
   ]
  },
  {
   "cell_type": "code",
   "execution_count": 3,
   "id": "7ffc0d10",
   "metadata": {},
   "outputs": [],
   "source": [
    "def relu(z):\n",
    "    return np.maximum(0, z)\n",
    "\n",
    "def relu_derivative(z):\n",
    "    return 1 if z > 0 else 0\n",
    "\n",
    "def sigmoid(z):\n",
    "    return 1 / (1 + np.exp(-z))\n",
    "\n",
    "def sigmoid_derivative(z):\n",
    "    return sigmoid(z) * (1 - sigmoid(z))"
   ]
  },
  {
   "cell_type": "code",
   "execution_count": 4,
   "id": "4126e955",
   "metadata": {},
   "outputs": [],
   "source": [
    "class Neuron:\n",
    "    def __init__(self, x, y):\n",
    "        self.x = np.expand_dims(x, axis = 1)\n",
    "        self.y = np.expand_dims(y, axis = 1)\n",
    "\n",
    "        m, n = self.x.shape\n",
    "        \n",
    "        self.w = np.array(np.random.randn(n))\n",
    "        self.b = np.random.randn()\n",
    "\n",
    "    def forward(self, activation = \"relu\"):\n",
    "        z = self.w * self.x + self.b\n",
    "        \n",
    "        if activation == 'relu':\n",
    "            a = relu(z)\n",
    "        elif activation == 'sigmoid':\n",
    "            a = sigmoid(z)\n",
    "\n",
    "        return a"
   ]
  },
  {
   "cell_type": "code",
   "execution_count": 5,
   "id": "881e80cb",
   "metadata": {},
   "outputs": [
    {
     "data": {
      "text/plain": [
       "array([[14.03114402],\n",
       "       [27.34700906]])"
      ]
     },
     "execution_count": 5,
     "metadata": {},
     "output_type": "execute_result"
    }
   ],
   "source": [
    "x = np.array((10, 20))\n",
    "y = np.array((1, 2.2))\n",
    "\n",
    "neuron = Neuron(x, y)\n",
    "neuron.forward()"
   ]
  },
  {
   "cell_type": "code",
   "execution_count": 6,
   "id": "99f9eb64",
   "metadata": {},
   "outputs": [],
   "source": [
    "def softmax(z):\n",
    "    return np.exp(z) / np.sum(np.exp(z))"
   ]
  },
  {
   "cell_type": "code",
   "execution_count": 7,
   "id": "50f6722d",
   "metadata": {},
   "outputs": [],
   "source": [
    "class Neuron:\n",
    "    def __init__(self, x, y):\n",
    "        self.x = np.expand_dims(x, axis = 1)\n",
    "        self.y = np.expand_dims(y, axis = 1)\n",
    "\n",
    "        m, n = self.x.shape\n",
    "        \n",
    "        self.w = np.array(np.random.randn(n))\n",
    "        self.b = np.random.randn()\n",
    "\n",
    "    def forward(self, activation = \"relu\"):\n",
    "        z = self.w * self.x + self.b\n",
    "\n",
    "        _activation = {\n",
    "            'relu': relu,\n",
    "            'sigmoid': sigmoid,\n",
    "            'softmax': softmax\n",
    "        }\n",
    "        \n",
    "        return _activation[activation](z)\n",
    "    "
   ]
  },
  {
   "cell_type": "code",
   "execution_count": null,
   "id": "f521e131",
   "metadata": {},
   "outputs": [
    {
     "data": {
      "text/plain": [
       "array([[0.],\n",
       "       [0.]])"
      ]
     },
     "execution_count": 8,
     "metadata": {},
     "output_type": "execute_result"
    }
   ],
   "source": [
    "x = np.array((0.4, 20))\n",
    "y = np.array((1.1, 2.2))\n",
    "\n",
    "neuron = Neuron(x, y)\n",
    "neuron.forward()"
   ]
  },
  {
   "cell_type": "code",
   "execution_count": 9,
   "id": "671330ae",
   "metadata": {},
   "outputs": [],
   "source": [
    "def binary_cross_entropy(y_true, y_pred):\n",
    "    eps = 1e-10\n",
    "\n",
    "    y_pred = np.clip(y_pred, eps, 1 - eps)\n",
    "\n",
    "    return -np.mean(y_true * np.log(y_pred) + (1 - y_true) * np.log(1 - y_pred))"
   ]
  },
  {
   "cell_type": "code",
   "execution_count": 10,
   "id": "aa660aa7",
   "metadata": {},
   "outputs": [
    {
     "data": {
      "text/plain": [
       "np.float64(1.000000082790371e-10)"
      ]
     },
     "execution_count": 10,
     "metadata": {},
     "output_type": "execute_result"
    }
   ],
   "source": [
    "binary_cross_entropy(1,1)"
   ]
  },
  {
   "cell_type": "code",
   "execution_count": 18,
   "id": "aad30f8c",
   "metadata": {},
   "outputs": [],
   "source": [
    "# add backpropagation\n",
    "class Neuron:\n",
    "    def __init__(self, x, y):\n",
    "        self.x = np.expand_dims(x, axis = 1) if x.ndim == 1 else x\n",
    "        self.y = np.expand_dims(y, axis = 1) if y.ndim == 1 else y\n",
    "\n",
    "        m, n = self.x.shape\n",
    "        \n",
    "        self.w = np.array(np.random.randn(n, 1))\n",
    "        self.b = np.random.randn()\n",
    "\n",
    "    def _forward(self, activation = \"relu\"):\n",
    "        z = self.w * self.x + self.b\n",
    "\n",
    "        _activation = {\n",
    "            'relu': relu,\n",
    "            'sigmoid': sigmoid,\n",
    "            'softmax': softmax\n",
    "        }\n",
    "        \n",
    "        return _activation[activation](z)\n",
    "    \n",
    "    def backward(self, epochs, learning_rate = 0.001, activation = 'sigmoid'):\n",
    "        for e in range(epochs):\n",
    "            y_pred = self._forward(activation)\n",
    "\n",
    "            m = self.x.shape[0]\n",
    "\n",
    "            dw = (1 / m) * np.dot(self.x.T, (y_pred - self.y))\n",
    "            db = (1 / m) * np.sum(y_pred - self.y)\n",
    "\n",
    "            self.w -= learning_rate * dw\n",
    "            self.b -= learning_rate * db\n",
    "\n",
    "            loss = np.mean(binary_cross_entropy(self.y, y_pred))\n",
    "            print(f\">Epoch: {e+1}/{epochs} \\t Loss {loss:.4f}\")\n",
    "\n"
   ]
  },
  {
   "cell_type": "code",
   "execution_count": 19,
   "id": "aac29da7",
   "metadata": {},
   "outputs": [
    {
     "name": "stdout",
     "output_type": "stream",
     "text": [
      ">Epoch: 1/20 \t Loss 20.2796\n",
      ">Epoch: 2/20 \t Loss 19.7899\n",
      ">Epoch: 3/20 \t Loss 19.3003\n",
      ">Epoch: 4/20 \t Loss 18.8107\n",
      ">Epoch: 5/20 \t Loss 18.3211\n",
      ">Epoch: 6/20 \t Loss 17.8315\n",
      ">Epoch: 7/20 \t Loss 17.3420\n",
      ">Epoch: 8/20 \t Loss 16.8524\n",
      ">Epoch: 9/20 \t Loss 16.3629\n",
      ">Epoch: 10/20 \t Loss 15.8734\n",
      ">Epoch: 11/20 \t Loss 15.3840\n",
      ">Epoch: 12/20 \t Loss 14.8945\n",
      ">Epoch: 13/20 \t Loss 14.4051\n",
      ">Epoch: 14/20 \t Loss 13.9157\n",
      ">Epoch: 15/20 \t Loss 13.4264\n",
      ">Epoch: 16/20 \t Loss 12.9370\n",
      ">Epoch: 17/20 \t Loss 12.4477\n",
      ">Epoch: 18/20 \t Loss 11.9584\n",
      ">Epoch: 19/20 \t Loss 11.4692\n",
      ">Epoch: 20/20 \t Loss 10.9799\n"
     ]
    }
   ],
   "source": [
    "neuron = Neuron(x, y)\n",
    "neuron.backward(epochs = 20)"
   ]
  },
  {
   "cell_type": "code",
   "execution_count": null,
   "id": "bf489d8e",
   "metadata": {},
   "outputs": [],
   "source": []
  }
 ],
 "metadata": {
  "kernelspec": {
   "display_name": ".venv",
   "language": "python",
   "name": "python3"
  },
  "language_info": {
   "codemirror_mode": {
    "name": "ipython",
    "version": 3
   },
   "file_extension": ".py",
   "mimetype": "text/x-python",
   "name": "python",
   "nbconvert_exporter": "python",
   "pygments_lexer": "ipython3",
   "version": "3.12.3"
  }
 },
 "nbformat": 4,
 "nbformat_minor": 5
}
