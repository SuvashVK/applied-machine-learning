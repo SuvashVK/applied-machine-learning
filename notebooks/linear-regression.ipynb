{
 "cells": [
  {
   "cell_type": "code",
   "execution_count": 14,
   "id": "e916b711-516a-4d2e-94b1-a349d1022d72",
   "metadata": {},
   "outputs": [],
   "source": [
    "import numpy as np\n",
    "\n",
    "np.random.seed(10)"
   ]
  },
  {
   "cell_type": "code",
   "execution_count": 15,
   "id": "9bdb730a-11af-4bb4-b3a9-4705ba5d80df",
   "metadata": {},
   "outputs": [],
   "source": [
    "n = 10000000\n",
    "\n",
    "x = np.random.rand(n)\n",
    "y = np.random.rand(n)\n",
    "\n"
   ]
  },
  {
   "cell_type": "code",
   "execution_count": 16,
   "id": "b412c2e4-03d1-43e7-98b6-e7f2b21c8b28",
   "metadata": {},
   "outputs": [
    {
     "name": "stdout",
     "output_type": "stream",
     "text": [
      "<class 'numpy.ndarray'>\n"
     ]
    }
   ],
   "source": [
    "print(type(x))"
   ]
  },
  {
   "cell_type": "code",
   "execution_count": 17,
   "id": "b703ff2a-0f86-46a6-8151-ca7a81250157",
   "metadata": {},
   "outputs": [
    {
     "data": {
      "text/plain": [
       "((10000000,), (10000000,))"
      ]
     },
     "execution_count": 17,
     "metadata": {},
     "output_type": "execute_result"
    }
   ],
   "source": [
    "x.shape, y.shape"
   ]
  },
  {
   "cell_type": "code",
   "execution_count": 18,
   "id": "71daa6a3-d16a-403b-af3e-3890147e5740",
   "metadata": {},
   "outputs": [
    {
     "data": {
      "text/plain": [
       "(10000000, 10000000)"
      ]
     },
     "execution_count": 18,
     "metadata": {},
     "output_type": "execute_result"
    }
   ],
   "source": [
    "len(x), len(y)"
   ]
  },
  {
   "cell_type": "code",
   "execution_count": 19,
   "id": "9bd54e64-a3b7-4f63-8fca-d3629b5d9341",
   "metadata": {},
   "outputs": [
    {
     "name": "stdout",
     "output_type": "stream",
     "text": [
      "Execution time:  1.839806079864502\n"
     ]
    }
   ],
   "source": [
    "import time\n",
    "\n",
    "start_time = time.time()\n",
    "\n",
    "for i in range(len(x)):\n",
    "    x[i] + y[i]\n",
    "\n",
    "end_time = time.time()\n",
    "\n",
    "print(\"Execution time: \", end_time - start_time)"
   ]
  },
  {
   "cell_type": "code",
   "execution_count": 20,
   "id": "f16e882e-f99b-4c5c-add0-12ae71ac1829",
   "metadata": {},
   "outputs": [
    {
     "name": "stdout",
     "output_type": "stream",
     "text": [
      "Execution time:  0.03499245643615723\n"
     ]
    }
   ],
   "source": [
    "start_time = time.time()\n",
    "\n",
    "z = np.add(x,y)\n",
    "\n",
    "end_time = time.time()\n",
    "\n",
    "print(\"Execution time: \", end_time - start_time)"
   ]
  },
  {
   "cell_type": "markdown",
   "id": "cd64fc5f-07c4-4342-9eb2-91fa25cd2ab5",
   "metadata": {},
   "source": [
    "# Linear regression"
   ]
  },
  {
   "cell_type": "code",
   "execution_count": 21,
   "id": "c07617f9-818c-4ad9-a176-ff40c35b8dcf",
   "metadata": {},
   "outputs": [
    {
     "name": "stdout",
     "output_type": "stream",
     "text": [
      "(100,)\n",
      "[217.52965869 255.7476268  377.08385258 323.15310958 371.00022103\n",
      " 269.38712856 339.93005946 371.72708543 311.46864548 229.24484097\n",
      " 205.0759146  371.36856826 265.44667535 325.20838321 351.72210097\n",
      " 277.68723691 369.99576013 243.6492485  237.90149348 245.38729983\n",
      " 309.87967615 341.60016051 321.00739897 261.57213634 391.35762296\n",
      " 381.12754698 351.73940374 237.93478366 267.42991244 387.54217216\n",
      " 339.59724468 265.68019079 371.25705868 245.81613233 241.7074627\n",
      " 251.04254324 385.53718573 383.94944203 265.40050621 205.06724436\n",
      " 337.94097891 331.40062203 235.52617448 265.1551935  289.53388046\n",
      " 297.34687063 255.09999167 217.83760969 295.1635753  337.44118001\n",
      " 215.74377277 243.03153663 331.76250972 249.9651691  401.95101239\n",
      " 269.05609826 321.25652776 385.66540449 283.14364264 291.29178602\n",
      " 269.72795494 235.43296227 333.19081954 237.49238062 253.98516778\n",
      " 361.57959142 327.4924717  397.70894107 387.85853826 287.12223314\n",
      " 269.88490998 299.2627348  321.01540854 395.3478576  329.62181667\n",
      " 277.90246429 255.60527517 323.44000742 321.44920695 273.68388649\n",
      " 241.29840703 235.27289232 393.55827505 233.31898468 249.13207685\n",
      " 213.87126442 243.66618354 377.71165324 297.94830156 273.39252386\n",
      " 215.26222502 209.19628976 297.54963264 355.40134737 367.43954589\n",
      " 357.71291415 285.96068541 291.24961538 237.23319272 245.39790991]\n"
     ]
    }
   ],
   "source": [
    "w = 2\n",
    "b = 5\n",
    "\n",
    "# y = 2x + 5\n",
    "x = np.random.randint(100, 200, 100)\n",
    "random_noise = np.random.rand(100)\n",
    "y = 2 * x + 5 + random_noise\n",
    "\n",
    "print(y.shape)\n",
    "print(y)"
   ]
  },
  {
   "cell_type": "code",
   "execution_count": 22,
   "id": "9c68fa4e-841c-4468-b4d2-d34bcb264112",
   "metadata": {},
   "outputs": [
    {
     "name": "stdout",
     "output_type": "stream",
     "text": [
      "0.5787669992409038 0.2672503772909416\n"
     ]
    }
   ],
   "source": [
    "w1 = np.random.rand()\n",
    "w0 = np.random.rand()\n",
    "\n",
    "print(w1, w0)"
   ]
  },
  {
   "cell_type": "code",
   "execution_count": 23,
   "id": "e15b5315-ea55-4ea2-bf0c-6e223d3ca2d7",
   "metadata": {},
   "outputs": [
    {
     "name": "stdout",
     "output_type": "stream",
     "text": [
      "[ 61.6165523   72.61312528 107.91791224  92.29120326 106.18161124\n",
      "  76.66449428  96.92133925 106.18161124  88.81860126  65.08915429\n",
      "  58.1439503  106.18161124  75.50696028  92.86997026 100.39394125\n",
      "  78.97956227 105.60284424  69.14052329  67.40422229  69.71929029\n",
      "  88.23983426  97.50010625  91.71243626  74.34942628 111.96928123\n",
      " 109.07544623 100.39394125  67.40422229  76.08572728 110.81174723\n",
      "  96.92133925  75.50696028 106.18161124  69.71929029  68.56175629\n",
      "  71.45559128 110.23298023 109.65421323  75.50696028  58.1439503\n",
      "  96.34257225  94.60627125  66.82545529  75.50696028  82.45216427\n",
      "  84.76723227  72.61312528  61.6165523   84.18846527  96.34257225\n",
      "  61.0377853   69.14052329  94.60627125  70.87682428 114.86311623\n",
      "  76.66449428  91.71243626 110.23298023  80.71586327  83.03093127\n",
      "  76.66449428  66.82545529  95.18503825  67.40422229  72.03435828\n",
      " 103.28777624  93.44873726 113.70558223 110.81174723  81.87339727\n",
      "  76.66449428  85.34599927  91.71243626 113.12681523  94.02750425\n",
      "  78.97956227  72.61312528  92.29120326  91.71243626  77.82202828\n",
      "  68.56175629  66.82545529 112.54804823  66.24668829  70.87682428\n",
      "  60.4590183   69.14052329 107.91791224  84.76723227  77.82202828\n",
      "  61.0377853   59.3014843   84.76723227 101.55147524 105.02407724\n",
      " 102.13024224  81.29463027  83.03093127  67.40422229  69.71929029]\n"
     ]
    }
   ],
   "source": [
    "y_pred = w1 * x + w0\n",
    "print(y_pred)"
   ]
  },
  {
   "cell_type": "code",
   "execution_count": 24,
   "id": "b58928e5-8084-4ad7-9e5f-c1a4f31ce21c",
   "metadata": {},
   "outputs": [
    {
     "name": "stdout",
     "output_type": "stream",
     "text": [
      "-0.002130988165178112\n"
     ]
    }
   ],
   "source": [
    "error = y_pred - y\n",
    "\n",
    "# average error\n",
    "print(np.sum(error) / n)"
   ]
  },
  {
   "cell_type": "markdown",
   "id": "f404943b-bc4f-462c-9874-20be633d0d6c",
   "metadata": {},
   "source": [
    "## update weights"
   ]
  },
  {
   "cell_type": "code",
   "execution_count": 27,
   "id": "78457437-6455-4029-b32f-e5574953990d",
   "metadata": {},
   "outputs": [
    {
     "name": "stdout",
     "output_type": "stream",
     "text": [
      "0.27060086331040445 0.47517770448797864\n"
     ]
    }
   ],
   "source": [
    "learning_rate = 0.0001\n",
    "\n",
    "w1 = w1 - learning_rate * np.dot(error, x) / n\n",
    "w0 = w0 - learning_rate * np.sum(error) / n\n",
    "\n",
    "print(w1, w0)"
   ]
  },
  {
   "cell_type": "code",
   "execution_count": 28,
   "id": "bc690ea8-1891-49e9-b115-5494dfd27ee5",
   "metadata": {},
   "outputs": [
    {
     "name": "stdout",
     "output_type": "stream",
     "text": [
      "Epoch 1/10, Avg error: 272.03633083188356\n",
      "Epoch 2/10, Avg error: 278.0674454711201\n",
      "Epoch 3/10, Avg error: 284.23236186180793\n",
      "Epoch 4/10, Avg error: 290.534048428489\n",
      "Epoch 5/10, Avg error: 296.975539450929\n",
      "Epoch 6/10, Avg error: 303.5599365251313\n",
      "Epoch 7/10, Avg error: 310.29041005676464\n",
      "Epoch 8/10, Avg error: 317.17020078772157\n",
      "Epoch 9/10, Avg error: 324.2026213565454\n",
      "Epoch 10/10, Avg error: 331.39105789347485\n",
      "After the completion of training, w1 = -0.27968899832640093, w0 = 0.1848694484210524\n"
     ]
    }
   ],
   "source": [
    "w1 = np.random.rand()\n",
    "w0 = np.random.rand()\n",
    "\n",
    "epochs = 10\n",
    "learning_rate = 0.1\n",
    "\n",
    "for t in range(epochs):\n",
    "    y_pred = w1 * x + w0\n",
    "\n",
    "    error  =  y - y_pred\n",
    "    avg_error = np.sum(error) / len(y)\n",
    "    print(f\"Epoch {t+1}/{epochs}, Avg error: {avg_error}\")\n",
    "      \n",
    "    w1 = w1 - learning_rate * np.dot(error, x) / n\n",
    "    w0 = w0 - learning_rate * np.sum(error) / n\n",
    "\n",
    "print(f\"After the completion of training, w1 = {w1}, w0 = {w0}\")"
   ]
  },
  {
   "cell_type": "code",
   "execution_count": null,
   "id": "0d139720-8f78-46e1-a2bf-97df476559d0",
   "metadata": {},
   "outputs": [],
   "source": []
  }
 ],
 "metadata": {
  "kernelspec": {
   "display_name": ".venv",
   "language": "python",
   "name": "python3"
  },
  "language_info": {
   "codemirror_mode": {
    "name": "ipython",
    "version": 3
   },
   "file_extension": ".py",
   "mimetype": "text/x-python",
   "name": "python",
   "nbconvert_exporter": "python",
   "pygments_lexer": "ipython3",
   "version": "3.12.3"
  }
 },
 "nbformat": 4,
 "nbformat_minor": 5
}
