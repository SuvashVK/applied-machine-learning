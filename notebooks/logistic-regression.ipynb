{
 "cells": [
  {
   "cell_type": "code",
   "execution_count": null,
   "id": "f9b96a1a",
   "metadata": {},
   "outputs": [],
   "source": [
    "import numpy as np\n",
    "import pandas as pd\n",
    "\n",
    "class LogisticRegression:\n",
    "    \"\"\"\n",
    "        This is thscratch iplementation of Logistic Regression.\n",
    "    \"\"\"\n",
    "\n",
    "    def __init__(self, X, y):\n",
    "        self.param = {}\n",
    "        self.m, self.n = X.shape\n",
    "        self.param['W'] = np.random.rand(self.n, 1) * 0.001\n",
    "        self.param['b'] = np.zeros(1)\n",
    "\n",
    "        self.X = X\n",
    "        self.y = y\n",
    "        self.result = pd.DataFrame()\n",
    "\n",
    "    def train(self, alpha = 0.001, epochs = 10):\n",
    "        for epoch in range (epochs):\n",
    "            print(\"Epoch: \", epoch, end = \"\")\n",
    "            z = np.dot(self.X, self.param['W']) + self.param['b']\n",
    "\n",
    "            self.y_pred = self.sigmoid(z)\n",
    "            # print(self.ypred)\n",
    "\n",
    "            # Update the parameters\n",
    "            self.param['W'] = self.param['W'] - alpha * 1 / self.m * np.dot(self.X.transpose(), (self.y_pred - np.reshape(self.y, (self.m, 1))))\n",
    "            self.param['b'] = self.param['b'] - alpha * 1 / self.m * np.sum(self.y_pred - np.reshape(self.y, (self.m, 1)))\n",
    "\n",
    "            self.y_pred = self.sigmoid(np.dot(self.X, self.param['W']) + self.param['b'])\n",
    "            loss = self.loss(self.y, self.y_pred)\n",
    "\n",
    "            self.result[1] = self.y_pred\n",
    "            print(\", loss = \", loss)\n",
    "\n",
    "        print(\", Final loss = \", loss)\n",
    "        print(\" W: {}, b = {}\".format(self.param['W'], self.param['b']))\n",
    "\n",
    "    def loss(self, y, y_pred):\n",
    "        y_zero_loss  = y.T.dot(np.log(y_pred))\n",
    "        y_one_loss  = (1 - y).T.dot(np.log(1 - y_pred))\n",
    "\n",
    "        return - np.sum(y_zero_loss + y_one_loss) / len(y)\n",
    "    \n",
    "    def sigmoid(self, z):\n",
    "        return 1.0 / (1 + np.exp(-z))\n",
    "    \n",
    "    \n",
    "    def predict(self, X):\n",
    "        return self.sigmoid(np.dot(X, self.param['W']) + self.param['b'])\n",
    "\n"
   ]
  },
  {
   "cell_type": "markdown",
   "id": "9ab209d3",
   "metadata": {},
   "source": [
    "## Books\n",
    "- The biology of belief\n",
    "- The power of habit\n",
    "- Atomic habit\n"
   ]
  }
 ],
 "metadata": {
  "language_info": {
   "name": "python"
  }
 },
 "nbformat": 4,
 "nbformat_minor": 5
}
