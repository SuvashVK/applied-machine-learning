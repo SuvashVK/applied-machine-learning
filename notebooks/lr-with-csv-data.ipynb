{
 "cells": [
  {
   "cell_type": "code",
   "execution_count": null,
   "id": "712e04bd-ef6b-41ed-aff7-210f7e388bb3",
   "metadata": {},
   "outputs": [],
   "source": [
    "import numpy as np\n",
    "import pandas as pd\n",
    "from matplotlib import pyplot as plt\n",
    "\n",
    "from sklearn.model_selection import train_test_split\n",
    "from sklearn.metrics import mean_absolute_error, r2_score"
   ]
  },
  {
   "cell_type": "code",
   "execution_count": null,
   "id": "85a1a72b-5c28-445b-91ca-e3f874d02dbc",
   "metadata": {},
   "outputs": [],
   "source": [
    "# Find csv data (linear) yourself."
   ]
  },
  {
   "cell_type": "code",
   "execution_count": null,
   "id": "70b146e9-c887-4d03-a13f-a00fa37aa119",
   "metadata": {},
   "outputs": [],
   "source": [
    "def scale(d):\n",
    "    mean = d.mean()\n",
    "    sd = d.std()\n",
    "\n",
    "    return (d - mean)/sd\n",
    "\n",
    "def data_iter(batch_size, features, labels):\n",
    "    num_examples = len(features)\n",
    "    indices = list(range(num_examples))\n",
    "\n",
    "    # The examples are read at random, in no particular order\n",
    "    np.random.shuffle(indices)\n",
    "    for i in range (0, num_examples, batch_size):\n",
    "        batch_indices = np.array(indices[i: min(i + batch_size, num_examples)])\n",
    "\n",
    "        yield features[batch_indices], labels[batch_indices]\n",
    "    \n"
   ]
  },
  {
   "cell_type": "code",
   "execution_count": null,
   "id": "7e8f3cfa-b1e0-43f9-be1f-b9995d075f5a",
   "metadata": {},
   "outputs": [],
   "source": [
    "# Get features and labels with scaling in place\n",
    "features = scale(np.reshape(np.array(data.iloc[:, 0]), (len(data), 1)))\n",
    "\n",
    "labels = scale(np.reshape(np.array(data.iloc[:, 1]), (len(data), 1)))"
   ]
  },
  {
   "cell_type": "code",
   "execution_count": null,
   "id": "c41673c8-60f8-4110-8eab-242d032c8b58",
   "metadata": {},
   "outputs": [],
   "source": [
    "# plot the data for exploration\n",
    "plt.scatter(features, labels)\n",
    "plt.show()"
   ]
  },
  {
   "cell_type": "code",
   "execution_count": null,
   "id": "3afabf09-57d2-4771-9c62-cb0c629966e4",
   "metadata": {},
   "outputs": [],
   "source": []
  }
 ],
 "metadata": {
  "kernelspec": {
   "display_name": "Python 3 (ipykernel)",
   "language": "python",
   "name": "python3"
  },
  "language_info": {
   "codemirror_mode": {
    "name": "ipython",
    "version": 3
   },
   "file_extension": ".py",
   "mimetype": "text/x-python",
   "name": "python",
   "nbconvert_exporter": "python",
   "pygments_lexer": "ipython3",
   "version": "3.12.3"
  }
 },
 "nbformat": 4,
 "nbformat_minor": 5
}
